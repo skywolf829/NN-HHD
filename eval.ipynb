{
 "cells": [
  {
   "cell_type": "code",
   "execution_count": 67,
   "metadata": {},
   "outputs": [
    {
     "name": "stdout",
     "output_type": "stream",
     "text": [
      "The autoreload extension is already loaded. To reload it, use:\n",
      "  %reload_ext autoreload\n"
     ]
    }
   ],
   "source": [
    "import os\n",
    "import sys\n",
    "import numpy as np\n",
    "import torch\n",
    "from Code.utility_functions import nc_to_tensor, PSNR, ssim3D, tensor_to_cdf\n",
    "# sys.path.append(\"..\")\n",
    "os.getcwd()\n",
    "%load_ext autoreload\n",
    "%autoreload 2\n",
    "\n",
    "MSE = lambda x,y: torch.mean((x-y)**2)\n"
   ]
  },
  {
   "cell_type": "markdown",
   "metadata": {},
   "source": [
    "### Tornado"
   ]
  },
  {
   "cell_type": "code",
   "execution_count": 68,
   "metadata": {},
   "outputs": [],
   "source": [
    "# load GT vector field\n",
    "vec = nc_to_tensor(\"Data/tornado.nc\")[0]\n",
    "\n",
    "# Load Baseline Natural HHD components and reconstruct\n",
    "ddir = \"Output\"\n",
    "dname = \"tornado\"\n",
    "dfiles = [\n",
    "  f\"{dname}_baseline_divergencefree.nc\",\n",
    "  f\"{dname}_baseline_rotationfree.nc\",\n",
    "  f\"{dname}_baseline_harmonic.nc\",\n",
    "]\n",
    "df_bl, rf_bl, hm_bl = [nc_to_tensor(os.path.join(ddir, data))[0] for data in dfiles ]\n",
    "vec_bl = df_bl + rf_bl + hm_bl\n",
    "\n",
    "# Load NN-HHD components and reconstruct\n",
    "ddir = \"Output/VectorFields/\"\n",
    "dfiles = [\n",
    "  f\"{dname}_divergencefree.nc\",\n",
    "  f\"{dname}_rotationfree.nc\",\n",
    "]\n",
    "df_nn, rf_nn = [nc_to_tensor(os.path.join(ddir, data))[0] for data in dfiles ]\n",
    "vec_nn = df_nn + rf_nn"
   ]
  },
  {
   "cell_type": "code",
   "execution_count": 69,
   "metadata": {},
   "outputs": [
    {
     "name": "stdout",
     "output_type": "stream",
     "text": [
      "\n",
      "Natural HHD Evaluations\n",
      "PSNR:  tensor(161.2071)\n",
      "MSE:  tensor(2.9237e-15)\n",
      "\n",
      "**********************************************\n",
      "\n",
      "\n",
      "NN HHD Evaluations\n",
      "PSNR:  tensor(17.8267)\n",
      "MSE:  tensor(0.6368)\n"
     ]
    }
   ],
   "source": [
    "# Evaluation\n",
    "\n",
    "# df_bl_flat = df_bl.view(3, -1)\n",
    "# print(\n",
    "#   \"Natural HHD Div Free \" + \"Stats\",\n",
    "#   f\"min: {df_bl_flat.min(1)[0]}\",\n",
    "#   f\"max: {df_bl_flat.max(1)[0]}\",\n",
    "#   f\"mean: {df_bl_flat.mean(1)}\",\n",
    "#   sep=\"\\n\"\n",
    "# )\n",
    "print()\n",
    "print(\"Natural HHD Evaluations\")\n",
    "print(\"PSNR: \", PSNR(vec_bl, vec, vec.max()))\n",
    "print(\"MSE: \", MSE(vec_bl, vec),)\n",
    "print(\"\\n**********************************************\\n\")\n",
    "diff_bl = torch.abs(vec - vec_bl) # output error volume\n",
    "tensor_to_cdf(diff_bl[None], f\"Output/Eval/{dname}_diff_bl.nc\") # output error volume\n",
    "\n",
    "\n",
    "df_nn_flat = df_nn.view(3, -1)\n",
    "# print(\n",
    "#   \"NN HHD Div Free \" + \"Stats\",\n",
    "#   f\"min: {df_nn_flat.min(1)[0]}\",\n",
    "#   f\"max: {df_nn_flat.max(1)[0]}\",\n",
    "#   f\"mean: {df_nn_flat.mean(1)}\",\n",
    "#   sep=\"\\n\"\n",
    "# )\n",
    "print()\n",
    "print(\"NN HHD Evaluations\")\n",
    "print(\"PSNR: \", PSNR(vec_nn, vec, vec.max()))\n",
    "print(\"MSE: \", MSE(vec_nn, vec))\n",
    "diff_nn = torch.abs(vec - vec_nn) # output error volume\n",
    "tensor_to_cdf(diff_nn[None], f\"Output/Eval/{dname}_diff_nn.nc\") # output error volume"
   ]
  },
  {
   "cell_type": "markdown",
   "metadata": {},
   "source": [
    "### Cylinder"
   ]
  },
  {
   "cell_type": "code",
   "execution_count": 70,
   "metadata": {},
   "outputs": [],
   "source": [
    "# load GT vector field\n",
    "vec = nc_to_tensor(\"Data/cylinder.nc\")[0]\n",
    "\n",
    "# Load Baseline Natural HHD components and reconstruct\n",
    "ddir = \"Output\"\n",
    "dname = \"cylinder\"\n",
    "dfiles = [\n",
    "  f\"{dname}_baseline_divergencefree.nc\",\n",
    "  f\"{dname}_baseline_rotationfree.nc\",\n",
    "  f\"{dname}_baseline_harmonic.nc\",\n",
    "]\n",
    "df_bl, rf_bl, hm_bl = [nc_to_tensor(os.path.join(ddir, data))[0] for data in dfiles ]\n",
    "vec_bl = df_bl + rf_bl + hm_bl\n",
    "\n",
    "# Load NN-HHD components and reconstruct\n",
    "ddir = \"Output/VectorFields/\"\n",
    "dfiles = [\n",
    "  f\"{dname}_divergencefree.nc\",\n",
    "  f\"{dname}_rotationfree.nc\",\n",
    "]\n",
    "df_nn, rf_nn = [nc_to_tensor(os.path.join(ddir, data))[0] for data in dfiles ]\n",
    "vec_nn = df_nn + rf_nn"
   ]
  },
  {
   "cell_type": "code",
   "execution_count": 71,
   "metadata": {},
   "outputs": [
    {
     "name": "stdout",
     "output_type": "stream",
     "text": [
      "\n",
      "Natural HHD Evaluations\n",
      "PSNR:  tensor(191.0299)\n",
      "MSE:  tensor(3.8844e-20)\n",
      "\n",
      "**********************************************\n",
      "\n",
      "\n",
      "NN HHD Evaluations\n",
      "PSNR:  tensor(39.6961)\n",
      "MSE:  tensor(5.2808e-05)\n"
     ]
    }
   ],
   "source": [
    "# Evaluation\n",
    "\n",
    "print()\n",
    "print(\"Natural HHD Evaluations\")\n",
    "print(\"PSNR: \", PSNR(vec_bl, vec, vec.max()))\n",
    "print(\"MSE: \", MSE(vec_bl, vec),)\n",
    "print(\"\\n**********************************************\\n\")\n",
    "diff_bl = torch.abs(vec - vec_bl) # output error volume\n",
    "tensor_to_cdf(diff_bl[None], f\"Output/Eval/{dname}_diff_bl.nc\") # output error volume\n",
    "\n",
    "print()\n",
    "print(\"NN HHD Evaluations\")\n",
    "print(\"PSNR: \", PSNR(vec_nn, vec, vec.max()))\n",
    "print(\"MSE: \", MSE(vec_nn, vec))\n",
    "diff_nn = torch.abs(vec - vec_nn) # output error volume\n",
    "tensor_to_cdf(diff_nn[None], f\"Output/Eval/{dname}_diff_nn.nc\") # output error volume"
   ]
  }
 ],
 "metadata": {
  "kernelspec": {
   "display_name": "Python 3.9.13 ('vis')",
   "language": "python",
   "name": "python3"
  },
  "language_info": {
   "codemirror_mode": {
    "name": "ipython",
    "version": 3
   },
   "file_extension": ".py",
   "mimetype": "text/x-python",
   "name": "python",
   "nbconvert_exporter": "python",
   "pygments_lexer": "ipython3",
   "version": "3.9.13"
  },
  "orig_nbformat": 4,
  "vscode": {
   "interpreter": {
    "hash": "d49a4df4be77968c9896c3d630b8bc0bd85fb0f2c94402c4452ab42493763a2d"
   }
  }
 },
 "nbformat": 4,
 "nbformat_minor": 2
}
