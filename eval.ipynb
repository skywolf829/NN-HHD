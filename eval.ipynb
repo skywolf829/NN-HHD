{
 "cells": [
  {
   "cell_type": "code",
   "execution_count": 95,
   "metadata": {},
   "outputs": [
    {
     "name": "stdout",
     "output_type": "stream",
     "text": [
      "The autoreload extension is already loaded. To reload it, use:\n",
      "  %reload_ext autoreload\n"
     ]
    }
   ],
   "source": [
    "import os\n",
    "import sys\n",
    "import numpy as np\n",
    "import torch\n",
    "from Code.utility_functions import nc_to_tensor, PSNR, ssim3D, tensor_to_cdf, spatial_gradient, tensor_to_cdf, curl\n",
    "# sys.path.append(\"..\")\n",
    "%load_ext autoreload\n",
    "%autoreload 2\n",
    "\n",
    "MSE = lambda x,y: torch.mean((x-y)**2)\n"
   ]
  },
  {
   "cell_type": "markdown",
   "metadata": {},
   "source": [
    "### Tornado"
   ]
  },
  {
   "cell_type": "code",
   "execution_count": 96,
   "metadata": {},
   "outputs": [],
   "source": [
    "# load GT vector field\n",
    "vec = nc_to_tensor(\"Data/tornado.nc\")[0]\n",
    "\n",
    "# Load Baseline Natural HHD components and reconstruct\n",
    "ddir = \"Output\"\n",
    "dname = \"tornado\"\n",
    "dfiles = [\n",
    "  f\"{dname}_baseline_divergencefree.nc\",\n",
    "  f\"{dname}_baseline_rotationfree.nc\",\n",
    "  f\"{dname}_baseline_harmonic.nc\",\n",
    "]\n",
    "df_bl, rf_bl, hm_bl = [nc_to_tensor(os.path.join(ddir, data))[0] for data in dfiles ]\n",
    "vec_bl = df_bl + rf_bl\n",
    "tensor_to_cdf(vec_bl[None], f\"Output/{dname}_baseline.nc\")\n",
    "\n",
    "# Load NN-HHD components and reconstruct\n",
    "ddir = \"Output/VectorFields/\"\n",
    "dfiles = [\n",
    "  f\"{dname}_divergencefree.nc\",\n",
    "  f\"{dname}_rotationfree.nc\",\n",
    "]\n",
    "df_nn, rf_nn = [nc_to_tensor(os.path.join(ddir, data))[0] for data in dfiles ]\n",
    "rf_nn = -rf_nn\n",
    "vec_nn = df_nn + rf_nn"
   ]
  },
  {
   "cell_type": "code",
   "execution_count": 97,
   "metadata": {},
   "outputs": [
    {
     "name": "stdout",
     "output_type": "stream",
     "text": [
      "\n",
      "Natural HHD Evaluations - Reconstruction\n",
      "PSNR:  tensor(18.8663)\n",
      "MSE:  tensor(0.5012)\n",
      "\n",
      "**********************************************\n",
      "\n",
      "\n",
      "NN HHD Evaluations - Reconstruction\n",
      "PSNR:  tensor(45.6429)\n",
      "MSE:  tensor(0.0011)\n"
     ]
    }
   ],
   "source": [
    "# Evaluation\n",
    "\n",
    "# df_bl_flat = df_bl.view(3, -1)\n",
    "# print(\n",
    "#   \"Natural HHD Div Free \" + \"Stats\",\n",
    "#   f\"min: {df_bl_flat.min(1)[0]}\",\n",
    "#   f\"max: {df_bl_flat.max(1)[0]}\",\n",
    "#   f\"mean: {df_bl_flat.mean(1)}\",\n",
    "#   sep=\"\\n\"\n",
    "# )\n",
    "print()\n",
    "print(\"Natural HHD Evaluations - Reconstruction\")\n",
    "print(\"PSNR: \", PSNR(vec_bl, vec, vec.max()))\n",
    "print(\"MSE: \", MSE(vec_bl, vec),)\n",
    "print(\"\\n**********************************************\\n\")\n",
    "diff_bl = torch.abs(vec - vec_bl) # output error volume\n",
    "tensor_to_cdf(diff_bl[None], f\"Output/Eval/{dname}_diff_bl.nc\") # output error volume\n",
    "\n",
    "\n",
    "df_nn_flat = df_nn.view(3, -1)\n",
    "# print(\n",
    "#   \"NN HHD Div Free \" + \"Stats\",\n",
    "#   f\"min: {df_nn_flat.min(1)[0]}\",\n",
    "#   f\"max: {df_nn_flat.max(1)[0]}\",\n",
    "#   f\"mean: {df_nn_flat.mean(1)}\",\n",
    "#   sep=\"\\n\"\n",
    "# )\n",
    "print()\n",
    "print(\"NN HHD Evaluations - Reconstruction\")\n",
    "print(\"PSNR: \", PSNR(vec_nn, vec, vec.max()))\n",
    "print(\"MSE: \", MSE(vec_nn, vec))\n",
    "diff_nn = torch.abs(vec - vec_nn) # output error volume\n",
    "tensor_to_cdf(diff_nn[None], f\"Output/Eval/{dname}_diff_nn.nc\") # output error volume"
   ]
  },
  {
   "cell_type": "markdown",
   "metadata": {},
   "source": [
    "### Cylinder"
   ]
  },
  {
   "cell_type": "code",
   "execution_count": 98,
   "metadata": {},
   "outputs": [],
   "source": [
    "# load GT vector field\n",
    "vec = nc_to_tensor(\"Data/cylinder.nc\")[0]\n",
    "\n",
    "# Load Baseline Natural HHD components and reconstruct\n",
    "ddir = \"Output\"\n",
    "dname = \"cylinder\"\n",
    "dfiles = [\n",
    "  f\"{dname}_baseline_divergencefree.nc\",\n",
    "  f\"{dname}_baseline_rotationfree.nc\",\n",
    "  f\"{dname}_baseline_harmonic.nc\",\n",
    "]\n",
    "df_bl, rf_bl, hm_bl = [nc_to_tensor(os.path.join(ddir, data))[0] for data in dfiles ]\n",
    "vec_bl = df_bl + rf_bl\n",
    "tensor_to_cdf(vec_bl[None], f\"Output/{dname}_baseline.nc\")\n",
    "\n",
    "# Load NN-HHD components and reconstruct\n",
    "ddir = \"Output/VectorFields/\"\n",
    "dfiles = [\n",
    "  f\"{dname}_divergencefree.nc\",\n",
    "  f\"{dname}_rotationfree.nc\",\n",
    "]\n",
    "df_nn, rf_nn = [nc_to_tensor(os.path.join(ddir, data))[0] for data in dfiles ]\n",
    "rf_nn = -rf_nn\n",
    "vec_nn = df_nn + rf_nn"
   ]
  },
  {
   "cell_type": "code",
   "execution_count": 99,
   "metadata": {},
   "outputs": [
    {
     "name": "stdout",
     "output_type": "stream",
     "text": [
      "\n",
      "Natural HHD Evaluations - Reconstruction\n",
      "PSNR:  tensor(41.8484)\n",
      "MSE:  tensor(3.2172e-05)\n",
      "\n",
      "**********************************************\n",
      "\n",
      "\n",
      "NN HHD Evaluations - Reconstruction\n",
      "PSNR:  tensor(40.2250)\n",
      "MSE:  tensor(4.6754e-05)\n"
     ]
    }
   ],
   "source": [
    "# Evaluation\n",
    "\n",
    "print()\n",
    "print(\"Natural HHD Evaluations - Reconstruction\")\n",
    "print(\"PSNR: \", PSNR(vec_bl, vec, vec.max()))\n",
    "print(\"MSE: \", MSE(vec_bl, vec),)\n",
    "print(\"\\n**********************************************\\n\")\n",
    "diff_bl = torch.abs(vec - vec_bl) # output error volume\n",
    "tensor_to_cdf(diff_bl[None], f\"Output/Eval/{dname}_diff_bl.nc\") # output error volume\n",
    "\n",
    "print()\n",
    "print(\"NN HHD Evaluations - Reconstruction\")\n",
    "print(\"PSNR: \", PSNR(vec_nn, vec, vec.max()))\n",
    "print(\"MSE: \", MSE(vec_nn, vec))\n",
    "diff_nn = torch.abs(vec - vec_nn) # output error volume\n",
    "tensor_to_cdf(diff_nn[None], f\"Output/Eval/{dname}_diff_nn.nc\") # output error volume"
   ]
  },
  {
   "cell_type": "markdown",
   "metadata": {},
   "source": [
    "### Synthetic"
   ]
  },
  {
   "cell_type": "code",
   "execution_count": 100,
   "metadata": {},
   "outputs": [],
   "source": [
    "# load GT vector field\n",
    "vp = nc_to_tensor(\"Data/ABC.nc\")[0]\n",
    "sp = torch.norm(nc_to_tensor(\"Data/tornado.nc\"), dim=1, keepdim=True)[0]\n",
    "rf = nc_to_tensor(\"Data/synthetic_rf.nc\")[0]\n",
    "df = nc_to_tensor(\"Data/synthetic_df.nc\")[0]\n",
    "vec = nc_to_tensor(\"Data/synthetic_vf.nc\")[0]\n",
    "\n",
    "# Load Baseline Natural HHD components and reconstruct\n",
    "ddir = \"Output\"\n",
    "dname = \"synthetic_vf\"\n",
    "dfiles = [\n",
    "  f\"{dname}_baseline_divergencefree.nc\",\n",
    "  f\"{dname}_baseline_rotationfree.nc\",\n",
    "  f\"{dname}_baseline_harmonic.nc\",\n",
    "]\n",
    "df_bl, rf_bl, hm_bl = [nc_to_tensor(os.path.join(ddir, data))[0] for data in dfiles ]\n",
    "vec_bl = df_bl + rf_bl\n",
    "tensor_to_cdf(vec_bl[None], f\"Output/{dname}_baseline.nc\")\n",
    "\n",
    "# Load NN-HHD components and reconstruct\n",
    "ddir = \"Output/VectorFields/\"\n",
    "dfiles = [\n",
    "  f\"{dname}_divergencefree.nc\",\n",
    "  f\"{dname}_rotationfree.nc\",\n",
    "]\n",
    "df_nn, rf_nn = [nc_to_tensor(os.path.join(ddir, data))[0] for data in dfiles ]\n",
    "rf_nn = -rf_nn\n",
    "vec_nn = df_nn + rf_nn\n",
    "\n",
    "# Load NN-HHD potentials\n",
    "ddir = \"Output/Potentials/\"\n",
    "dfiles = [\n",
    "  f\"{dname}_scalarpotential.nc\",\n",
    "  f\"{dname}_vectorpotential.nc\",\n",
    "]\n",
    "sp_nn, vp_nn = [nc_to_tensor(os.path.join(ddir, data))[0] for data in dfiles ]"
   ]
  },
  {
   "cell_type": "code",
   "execution_count": 101,
   "metadata": {},
   "outputs": [
    {
     "name": "stdout",
     "output_type": "stream",
     "text": [
      "\n",
      "Natural HHD Evaluations - Reconstruction\n",
      "PSNR:  tensor(26.6203)\n",
      "MSE:  tensor(0.0052)\n",
      "\n",
      "**********************************************\n",
      "\n",
      "\n",
      "NN HHD Evaluations - Reconstruction\n",
      "PSNR:  tensor(35.3865)\n",
      "MSE:  tensor(0.0007)\n"
     ]
    }
   ],
   "source": [
    "# Evaluation\n",
    "\n",
    "print()\n",
    "print(\"Natural HHD Evaluations - Reconstruction\")\n",
    "print(\"PSNR: \", PSNR(vec_bl, vec, vec.max()))\n",
    "print(\"MSE: \", MSE(vec_bl, vec),)\n",
    "print(\"\\n**********************************************\\n\")\n",
    "diff_bl = torch.abs(vec - vec_bl) # output error volume\n",
    "tensor_to_cdf(diff_bl[None], f\"Output/Eval/{dname}_diff_bl.nc\") # output error volume\n",
    "\n",
    "print()\n",
    "print(\"NN HHD Evaluations - Reconstruction\")\n",
    "print(\"PSNR: \", PSNR(vec_nn, vec, vec.max()))\n",
    "print(\"MSE: \", MSE(vec_nn, vec))\n",
    "diff_nn = torch.abs(vec - vec_nn) # output error volume\n",
    "tensor_to_cdf(diff_nn[None], f\"Output/Eval/{dname}_diff_nn.nc\") # output error volume"
   ]
  },
  {
   "cell_type": "code",
   "execution_count": 102,
   "metadata": {},
   "outputs": [
    {
     "name": "stdout",
     "output_type": "stream",
     "text": [
      "\n",
      "Natural HHD Evaluations - Components - DF\n",
      "PSNR:  tensor(12.3991)\n",
      "MSE:  tensor(0.0001)\n",
      "\n",
      "**********************************************\n",
      "\n",
      "\n",
      "NN HHD Evaluations - Reconstruction - DF\n",
      "PSNR:  tensor(3.8207)\n",
      "MSE:  tensor(0.0008)\n",
      "\n",
      "**********************************************\n",
      "\n",
      "\n",
      "Natural HHD Evaluations - Components - RF\n",
      "PSNR:  tensor(26.4552)\n",
      "MSE:  tensor(0.0051)\n",
      "\n",
      "**********************************************\n",
      "\n",
      "\n",
      "NN HHD Evaluations - Reconstruction - RF\n",
      "PSNR:  tensor(31.7511)\n",
      "MSE:  tensor(0.0015)\n"
     ]
    }
   ],
   "source": [
    "# Evaluation\n",
    "\n",
    "print()\n",
    "print(\"Natural HHD Evaluations - Components - DF\")\n",
    "print(\"PSNR: \", PSNR(df_bl, df, df.max()))\n",
    "print(\"MSE: \", MSE(df_bl, df),)\n",
    "print(\"\\n**********************************************\\n\")\n",
    "diff_bl = torch.abs(df_bl - df) # output error volume\n",
    "tensor_to_cdf(diff_bl[None], f\"Output/Eval/{dname}_df_diff_bl.nc\") # output error volume\n",
    "\n",
    "print()\n",
    "print(\"NN HHD Evaluations - Reconstruction - DF\")\n",
    "print(\"PSNR: \", PSNR(df_nn, df, df.max()))\n",
    "print(\"MSE: \", MSE(df_nn, df))\n",
    "diff_nn = torch.abs(df_nn - df) # output error volume\n",
    "tensor_to_cdf(diff_nn[None], f\"Output/Eval/{dname}_df_diff_nn.nc\") # output error volume\n",
    "\n",
    "# Evaluation\n",
    "print(\"\\n**********************************************\\n\")\n",
    "print()\n",
    "print(\"Natural HHD Evaluations - Components - RF\")\n",
    "print(\"PSNR: \", PSNR(rf_bl, rf, rf.max()))\n",
    "print(\"MSE: \", MSE(rf_bl, rf),)\n",
    "print(\"\\n**********************************************\\n\")\n",
    "diff_bl = torch.abs(rf_bl - rf) # output error volume\n",
    "tensor_to_cdf(diff_bl[None], f\"Output/Eval/{dname}_rf_diff_bl.nc\") # output error volume\n",
    "\n",
    "print()\n",
    "print(\"NN HHD Evaluations - Reconstruction - RF\")\n",
    "print(\"PSNR: \", PSNR(rf_nn, rf, rf.max()))\n",
    "print(\"MSE: \", MSE(rf_nn, rf))\n",
    "diff_nn = torch.abs(rf_nn - rf) # output error volume\n",
    "tensor_to_cdf(diff_nn[None], f\"Output/Eval/{dname}_rf_diff_nn.nc\") # output error volume"
   ]
  },
  {
   "cell_type": "code",
   "execution_count": 103,
   "metadata": {},
   "outputs": [
    {
     "name": "stdout",
     "output_type": "stream",
     "text": [
      "\n",
      "**********************************************\n",
      "\n",
      "\n",
      "Natural HHD Evaluations - Components - RF\n",
      "PSNR:  tensor(26.4552)\n",
      "MSE:  tensor(0.0051)\n",
      "\n",
      "**********************************************\n",
      "\n",
      "\n",
      "NN HHD Evaluations - Reconstruction - RF\n",
      "PSNR:  tensor(31.7511)\n",
      "MSE:  tensor(0.0015)\n"
     ]
    }
   ],
   "source": [
    "# Evaluation\n",
    "print(\"\\n**********************************************\\n\")\n",
    "print()\n",
    "print(\"Natural HHD Evaluations - Components - RF\")\n",
    "print(\"PSNR: \", PSNR(rf_bl, rf, rf.max()))\n",
    "print(\"MSE: \", MSE(rf_bl, rf),)\n",
    "print(\"\\n**********************************************\\n\")\n",
    "diff_bl = torch.abs(rf_bl - rf) # output error volume\n",
    "tensor_to_cdf(diff_bl[None], f\"Output/Eval/{dname}_rf_diff_bl.nc\") # output error volume\n",
    "\n",
    "print()\n",
    "print(\"NN HHD Evaluations - Reconstruction - RF\")\n",
    "print(\"PSNR: \", PSNR(rf_nn, rf, rf.max()))\n",
    "print(\"MSE: \", MSE(rf_nn, rf))\n",
    "diff_nn = torch.abs(rf_nn - rf) # output error volume\n",
    "tensor_to_cdf(diff_nn[None], f\"Output/Eval/{dname}_rf_diff_nn.nc\") # output error volume"
   ]
  }
 ],
 "metadata": {
  "kernelspec": {
   "display_name": "Python 3.9.13 ('vis')",
   "language": "python",
   "name": "python3"
  },
  "language_info": {
   "codemirror_mode": {
    "name": "ipython",
    "version": 3
   },
   "file_extension": ".py",
   "mimetype": "text/x-python",
   "name": "python",
   "nbconvert_exporter": "python",
   "pygments_lexer": "ipython3",
   "version": "3.9.13"
  },
  "orig_nbformat": 4,
  "vscode": {
   "interpreter": {
    "hash": "d49a4df4be77968c9896c3d630b8bc0bd85fb0f2c94402c4452ab42493763a2d"
   }
  }
 },
 "nbformat": 4,
 "nbformat_minor": 2
}
