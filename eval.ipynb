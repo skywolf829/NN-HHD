{
 "cells": [
  {
   "cell_type": "code",
   "execution_count": 44,
   "metadata": {},
   "outputs": [
    {
     "name": "stdout",
     "output_type": "stream",
     "text": [
      "The autoreload extension is already loaded. To reload it, use:\n",
      "  %reload_ext autoreload\n"
     ]
    }
   ],
   "source": [
    "import os\n",
    "import sys\n",
    "import numpy as np\n",
    "import torch\n",
    "from Code.utility_functions import nc_to_tensor, PSNR, ssim3D, tensor_to_cdf, spatial_gradient, tensor_to_cdf, curl\n",
    "# sys.path.append(\"..\")\n",
    "%load_ext autoreload\n",
    "%autoreload 2\n",
    "\n",
    "MSE = lambda x,y: torch.mean((x-y)**2)\n",
    "\n",
    "def evalMetrics(gt, pred, diff_fname):\n",
    "  # Evaluation\n",
    "  print(\"\\n**********************************************\\n\")\n",
    "  print(\"PSNR: \", PSNR(pred, gt, gt.max() - gt.min()))\n",
    "  print(\"MSE: \", MSE(pred, gt),)\n",
    "  print(\"\\n**********************************************\\n\")\n",
    "  diff_bl = torch.abs(pred - gt) # output error volume\n",
    "  tensor_to_cdf(diff_bl[None], f\"Output/Eval/{diff_fname}.nc\") # output error volume\n",
    "\n"
   ]
  },
  {
   "cell_type": "markdown",
   "metadata": {},
   "source": [
    "### Tornado"
   ]
  },
  {
   "cell_type": "code",
   "execution_count": 45,
   "metadata": {},
   "outputs": [],
   "source": [
    "# load GT vector field\n",
    "vec = nc_to_tensor(\"Data/tornado.nc\")[0]\n",
    "\n",
    "# Load Baseline Natural HHD components and reconstruct\n",
    "ddir = \"Output\"\n",
    "dname = \"tornado\"\n",
    "dfiles = [\n",
    "  f\"{dname}_baseline_divergencefree.nc\",\n",
    "  f\"{dname}_baseline_rotationfree.nc\",\n",
    "  f\"{dname}_baseline_harmonic.nc\",\n",
    "]\n",
    "df_bl, rf_bl, hm_bl = [nc_to_tensor(os.path.join(ddir, data))[0] for data in dfiles ]\n",
    "vec_bl = df_bl + rf_bl\n",
    "tensor_to_cdf(vec_bl[None], f\"Output/{dname}_baseline.nc\")\n",
    "\n",
    "# Load NN-HHD components and reconstruct\n",
    "ddir = \"Output/VectorFields/\"\n",
    "dfiles = [\n",
    "  f\"{dname}_divergencefree.nc\",\n",
    "  f\"{dname}_rotationfree.nc\",\n",
    "]\n",
    "df_nn, rf_nn = [nc_to_tensor(os.path.join(ddir, data))[0] for data in dfiles ]\n",
    "# rf_nn = -rf_nn\n",
    "vec_nn = df_nn + rf_nn"
   ]
  },
  {
   "cell_type": "code",
   "execution_count": 46,
   "metadata": {},
   "outputs": [
    {
     "name": "stdout",
     "output_type": "stream",
     "text": [
      "Natural HHD Evaluations - Reconstruction\n",
      "\n",
      "**********************************************\n",
      "\n",
      "PSNR:  tensor(24.8854)\n",
      "MSE:  tensor(0.5012)\n",
      "\n",
      "**********************************************\n",
      "\n",
      "NN HHD Evaluations - Reconstruction\n",
      "\n",
      "**********************************************\n",
      "\n",
      "PSNR:  tensor(52.2135)\n",
      "MSE:  tensor(0.0009)\n",
      "\n",
      "**********************************************\n",
      "\n"
     ]
    }
   ],
   "source": [
    "print(\"Natural HHD Evaluations - Reconstruction\")\n",
    "evalMetrics(vec, vec_bl, f\"{dname}_diff_bl\")\n",
    "print(\"NN HHD Evaluations - Reconstruction\")\n",
    "evalMetrics(vec, vec_nn, f\"{dname}_diff_nn\")\n"
   ]
  },
  {
   "cell_type": "markdown",
   "metadata": {},
   "source": [
    "### Cylinder"
   ]
  },
  {
   "cell_type": "code",
   "execution_count": 47,
   "metadata": {},
   "outputs": [],
   "source": [
    "# load GT vector field\n",
    "vec = nc_to_tensor(\"Data/cylinder.nc\")[0]\n",
    "\n",
    "# Load Baseline Natural HHD components and reconstruct\n",
    "ddir = \"Output\"\n",
    "dname = \"cylinder\"\n",
    "dfiles = [\n",
    "  f\"{dname}_baseline_divergencefree.nc\",\n",
    "  f\"{dname}_baseline_rotationfree.nc\",\n",
    "  f\"{dname}_baseline_harmonic.nc\",\n",
    "]\n",
    "df_bl, rf_bl, hm_bl = [nc_to_tensor(os.path.join(ddir, data))[0] for data in dfiles ]\n",
    "vec_bl = df_bl + rf_bl\n",
    "tensor_to_cdf(vec_bl[None], f\"Output/{dname}_baseline.nc\")\n",
    "\n",
    "# Load NN-HHD components and reconstruct\n",
    "ddir = \"Output/VectorFields/\"\n",
    "dfiles = [\n",
    "  f\"{dname}_divergencefree.nc\",\n",
    "  f\"{dname}_rotationfree.nc\",\n",
    "]\n",
    "df_nn, rf_nn = [nc_to_tensor(os.path.join(ddir, data))[0] for data in dfiles ]\n",
    "# rf_nn = -rf_nn\n",
    "vec_nn = df_nn + rf_nn"
   ]
  },
  {
   "cell_type": "code",
   "execution_count": 48,
   "metadata": {},
   "outputs": [
    {
     "name": "stdout",
     "output_type": "stream",
     "text": [
      "Natural HHD Evaluations - Reconstruction\n",
      "\n",
      "**********************************************\n",
      "\n",
      "PSNR:  tensor(47.8690)\n",
      "MSE:  tensor(3.2172e-05)\n",
      "\n",
      "**********************************************\n",
      "\n",
      "NN HHD Evaluations - Reconstruction\n",
      "\n",
      "**********************************************\n",
      "\n",
      "PSNR:  tensor(46.2429)\n",
      "MSE:  tensor(4.6783e-05)\n",
      "\n",
      "**********************************************\n",
      "\n"
     ]
    }
   ],
   "source": [
    "print(\"Natural HHD Evaluations - Reconstruction\")\n",
    "evalMetrics(vec, vec_bl, f\"{dname}_diff_bl\")\n",
    "print(\"NN HHD Evaluations - Reconstruction\")\n",
    "evalMetrics(vec, vec_nn, f\"{dname}_diff_nn\")"
   ]
  },
  {
   "cell_type": "markdown",
   "metadata": {},
   "source": [
    "### Synthetic"
   ]
  },
  {
   "cell_type": "code",
   "execution_count": 49,
   "metadata": {},
   "outputs": [],
   "source": [
    "# load GT vector field\n",
    "vp = nc_to_tensor(\"Data/ABC.nc\")[0]\n",
    "sp = torch.norm(nc_to_tensor(\"Data/tornado.nc\"), dim=1, keepdim=True)[0]\n",
    "\n",
    "# Generate GT RF and DF component if not already\n",
    "# tornado = nc_to_tensor(os.path.join(\"Data\", \"tornado.nc\"))\n",
    "# abc = nc_to_tensor(os.path.join(\"Data\", \"ABC.nc\"))\n",
    "\n",
    "# tornado_norm = torch.norm(tornado, dim=1, keepdim=True)\n",
    "# rotation_free_u = spatial_gradient(tornado_norm, 0, 0)\n",
    "# rotation_free_v = spatial_gradient(tornado_norm, 0, 1)\n",
    "# rotation_free_w = spatial_gradient(tornado_norm, 0, 2)\n",
    "\n",
    "# rotation_free = torch.cat([rotation_free_u, rotation_free_v, rotation_free_w], dim=1)\n",
    "# divergence_free = curl(abc)\n",
    "\n",
    "# tensor_to_cdf(divergence_free, os.path.join(\"Data\", \"synthetic_df.nc\"))\n",
    "# tensor_to_cdf(rotation_free, os.path.join(\"Data\", \"synthetic_rf.nc\"))\n",
    "\n",
    "rf = nc_to_tensor(\"Data/synthetic_rf.nc\")[0]\n",
    "df = nc_to_tensor(\"Data/synthetic_df.nc\")[0]\n",
    "vec = nc_to_tensor(\"Data/synthetic_vf.nc\")[0]\n",
    "\n",
    "# Load Baseline Natural HHD components and reconstruct\n",
    "ddir = \"Output\"\n",
    "dname = \"synthetic_vf\"\n",
    "dfiles = [\n",
    "  f\"{dname}_baseline_divergencefree.nc\",\n",
    "  f\"{dname}_baseline_rotationfree.nc\",\n",
    "  f\"{dname}_baseline_harmonic.nc\",\n",
    "]\n",
    "df_bl, rf_bl, hm_bl = [nc_to_tensor(os.path.join(ddir, data))[0] for data in dfiles ]\n",
    "vec_bl = df_bl + rf_bl\n",
    "tensor_to_cdf(vec_bl[None], f\"Output/{dname}_baseline.nc\")\n",
    "\n",
    "# Load NN-HHD components and reconstruct\n",
    "ddir = \"Output/VectorFields/\"\n",
    "dfiles = [\n",
    "  f\"{dname}_divergencefree.nc\",\n",
    "  f\"{dname}_rotationfree.nc\",\n",
    "]\n",
    "df_nn, rf_nn = [nc_to_tensor(os.path.join(ddir, data))[0] for data in dfiles ]\n",
    "# rf_nn = -rf_nn\n",
    "vec_nn = df_nn + rf_nn\n",
    "\n",
    "# Load NN-HHD potentials\n",
    "ddir = \"Output/Potentials/\"\n",
    "dfiles = [\n",
    "  f\"{dname}_scalarpotential.nc\",\n",
    "  f\"{dname}_vectorpotential.nc\",\n",
    "]\n",
    "sp_nn, vp_nn = [nc_to_tensor(os.path.join(ddir, data))[0] for data in dfiles ]"
   ]
  },
  {
   "cell_type": "code",
   "execution_count": 50,
   "metadata": {},
   "outputs": [
    {
     "name": "stdout",
     "output_type": "stream",
     "text": [
      "Natural HHD Evaluations - Reconstruction\n",
      "\n",
      "**********************************************\n",
      "\n",
      "PSNR:  tensor(32.6341)\n",
      "MSE:  tensor(0.0052)\n",
      "\n",
      "**********************************************\n",
      "\n",
      "NN HHD Evaluations - Reconstruction\n",
      "\n",
      "**********************************************\n",
      "\n",
      "PSNR:  tensor(41.4698)\n",
      "MSE:  tensor(0.0007)\n",
      "\n",
      "**********************************************\n",
      "\n",
      "Natural HHD Evaluations - Components - DF\n",
      "\n",
      "**********************************************\n",
      "\n",
      "PSNR:  tensor(18.4189)\n",
      "MSE:  tensor(0.0001)\n",
      "\n",
      "**********************************************\n",
      "\n",
      "NN HHD Evaluations - Components - DF\n",
      "\n",
      "**********************************************\n",
      "\n",
      "PSNR:  tensor(9.7216)\n",
      "MSE:  tensor(0.0009)\n",
      "\n",
      "**********************************************\n",
      "\n",
      "Natural HHD Evaluations - Components - RF\n",
      "\n",
      "**********************************************\n",
      "\n",
      "PSNR:  tensor(32.5294)\n",
      "MSE:  tensor(0.0051)\n",
      "\n",
      "**********************************************\n",
      "\n",
      "NN HHD Evaluations - Components - RF\n",
      "\n",
      "**********************************************\n",
      "\n",
      "PSNR:  tensor(37.7747)\n",
      "MSE:  tensor(0.0015)\n",
      "\n",
      "**********************************************\n",
      "\n"
     ]
    }
   ],
   "source": [
    "print(\"Natural HHD Evaluations - Reconstruction\")\n",
    "evalMetrics(vec, vec_bl, f\"{dname}_diff_bl\")\n",
    "print(\"NN HHD Evaluations - Reconstruction\")\n",
    "evalMetrics(vec, vec_nn, f\"{dname}_diff_nn\")\n",
    "\n",
    "print(\"Natural HHD Evaluations - Components - DF\")\n",
    "evalMetrics(df, df_bl, f\"{dname}_df_diff_bl\")\n",
    "print(\"NN HHD Evaluations - Components - DF\")\n",
    "evalMetrics(df, df_nn, f\"{dname}_df_diff_nn\")\n",
    "\n",
    "print(\"Natural HHD Evaluations - Components - RF\")\n",
    "evalMetrics(rf, rf_bl, f\"{dname}_rf_diff_bl\")\n",
    "print(\"NN HHD Evaluations - Components - RF\")\n",
    "evalMetrics(rf, rf_nn, f\"{dname}_rf_diff_nn\")"
   ]
  }
 ],
 "metadata": {
  "kernelspec": {
   "display_name": "Python 3.7.10 ('vis': conda)",
   "language": "python",
   "name": "python3"
  },
  "language_info": {
   "codemirror_mode": {
    "name": "ipython",
    "version": 3
   },
   "file_extension": ".py",
   "mimetype": "text/x-python",
   "name": "python",
   "nbconvert_exporter": "python",
   "pygments_lexer": "ipython3",
   "version": "3.7.10"
  },
  "orig_nbformat": 4,
  "vscode": {
   "interpreter": {
    "hash": "d82c3ef9a9c52ca48f89a57a471345d340895240528db2b7c56159ebd2138f11"
   }
  }
 },
 "nbformat": 4,
 "nbformat_minor": 2
}
